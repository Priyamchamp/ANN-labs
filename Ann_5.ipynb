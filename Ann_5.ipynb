{
  "nbformat": 4,
  "nbformat_minor": 0,
  "metadata": {
    "colab": {
      "provenance": [],
      "authorship_tag": "ABX9TyPSY/9tS1pPg+7f1BiX0PMg",
      "include_colab_link": true
    },
    "kernelspec": {
      "name": "python3",
      "display_name": "Python 3"
    },
    "language_info": {
      "name": "python"
    }
  },
  "cells": [
    {
      "cell_type": "markdown",
      "metadata": {
        "id": "view-in-github",
        "colab_type": "text"
      },
      "source": [
        "<a href=\"https://colab.research.google.com/github/Priyamchamp/ANN-labs/blob/main/Ann_5.ipynb\" target=\"_parent\"><img src=\"https://colab.research.google.com/assets/colab-badge.svg\" alt=\"Open In Colab\"/></a>"
      ]
    },
    {
      "cell_type": "code",
      "execution_count": 4,
      "metadata": {
        "colab": {
          "base_uri": "https://localhost:8080/"
        },
        "id": "mccZaTAKpwOh",
        "outputId": "47d479ad-d549-4a57-d360-a0ad39d80f50"
      },
      "outputs": [
        {
          "output_type": "stream",
          "name": "stdout",
          "text": [
            "Enter the number of input vectors: 1\n",
            "Enter the length of each vector: 3\n",
            "Enter values for input vector X[0]:\n",
            "1\n",
            "Enter values for input vector Y[0]:\n",
            "1\n",
            "matrix X: [[1. 1. 1.]]\n",
            "matrix Y: [[1. 1. 1.]]\n",
            "shape  (1, 3)\n",
            "shape  (1, 3)\n",
            "shape  (3, 3)\n",
            "\n",
            "Weight matrix W:\n",
            "[[1. 1. 1.]\n",
            " [1. 1. 1.]\n",
            " [1. 1. 1.]]\n",
            "\n",
            "Retrieved X from Y:\n",
            "[1. 1. 1.]\n",
            "\n",
            "Retrieved Y from X:\n",
            "[1. 1. 1.]\n"
          ]
        }
      ],
      "source": [
        "#ANN lab 5 practical\n",
        "\n",
        "\n",
        "import numpy as np\n",
        "\n",
        "# Get the number of input vectors and their lengths from the user\n",
        "num_vectors = int(input(\"Enter the number of input vectors: \"))\n",
        "vector_length = int(input(\"Enter the length of each vector: \"))\n",
        "\n",
        "# Initialize the input matrices\n",
        "X = np.zeros((num_vectors, vector_length))\n",
        "Y = np.zeros((num_vectors, vector_length))\n",
        "\n",
        "# Get input for X and Y matrices\n",
        "for i in range(num_vectors):\n",
        "    print(f\"Enter values for input vector X[{i}]:\")\n",
        "    X[i] = np.array([int(x) for x in input().split()])\n",
        "\n",
        "    print(f\"Enter values for input vector Y[{i}]:\")\n",
        "    Y[i] = np.array([int(y) for y in input().split()])\n",
        "\n",
        "# Calculate the weight matrix W\n",
        "W = np.dot(X.T, Y)\n",
        "\n",
        "# Define retrieval functions\n",
        "def retrieve_x(y):\n",
        "    return np.dot(y, W.T)\n",
        "\n",
        "def retrieve_y(x):\n",
        "    return np.dot(x, W)\n",
        "#display the matrix\n",
        "print(\"matrix X:\",X)\n",
        "print(\"matrix Y:\",Y)\n",
        "#displaying the shape of the matrix\n",
        "print (\"shape \",X.shape)\n",
        "print (\"shape \",Y.shape)\n",
        "print (\"shape \",W.shape)\n",
        "# Display the weight matrix W\n",
        "print(\"\\nWeight matrix W:\")\n",
        "print(W)\n",
        "\n",
        "# Test with the given pairs\n",
        "print(\"\\nRetrieved X from Y:\")\n",
        "for y in Y:\n",
        "    x_retrieved = np.sign(retrieve_x(y))\n",
        "    print(x_retrieved)\n",
        "\n",
        "print(\"\\nRetrieved Y from X:\")\n",
        "for x in X:\n",
        "    y_retrieved = np.sign(retrieve_y(x))\n",
        "    print(y_retrieved)\n"
      ]
    },
    {
      "cell_type": "code",
      "source": [],
      "metadata": {
        "id": "IiSAWZD40JVl"
      },
      "execution_count": null,
      "outputs": []
    }
  ]
}