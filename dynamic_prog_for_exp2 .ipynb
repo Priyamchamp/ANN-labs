{
  "nbformat": 4,
  "nbformat_minor": 0,
  "metadata": {
    "colab": {
      "provenance": [],
      "authorship_tag": "ABX9TyM5fFtrXPUv734kRZ7AYuKl",
      "include_colab_link": true
    },
    "kernelspec": {
      "name": "python3",
      "display_name": "Python 3"
    },
    "language_info": {
      "name": "python"
    }
  },
  "cells": [
    {
      "cell_type": "markdown",
      "metadata": {
        "id": "view-in-github",
        "colab_type": "text"
      },
      "source": [
        "<a href=\"https://colab.research.google.com/github/Priyamchamp/ANN-labs/blob/main/dynamic_prog_for_exp2%20.ipynb\" target=\"_parent\"><img src=\"https://colab.research.google.com/assets/colab-badge.svg\" alt=\"Open In Colab\"/></a>"
      ]
    },
    {
      "cell_type": "code",
      "execution_count": 2,
      "metadata": {
        "colab": {
          "base_uri": "https://localhost:8080/"
        },
        "id": "mtFKkxMC-If4",
        "outputId": "8e7dc639-ee13-4147-a2f4-7874d339bb2e"
      },
      "outputs": [
        {
          "output_type": "stream",
          "name": "stdout",
          "text": [
            "Enter value for X (1 or 0): 1\n",
            "Enter value for Y (1 or 0): 1\n",
            "Enter value for X (1 or 0): 0\n",
            "Enter value for Y (1 or 0): 1\n",
            "Enter value for X (1 or 0): 0\n",
            "Enter value for Y (1 or 0): 0\n",
            "Enter value for X (1 or 0): 0\n",
            "Enter value for Y (1 or 0): 1\n",
            "   X  Y  Output\n",
            "0  1  1       0\n",
            "1  0  1       0\n",
            "2  0  0       0\n",
            "3  0  1       0\n"
          ]
        }
      ],
      "source": [
        "import pandas as pd\n",
        "\n",
        "class Neuron:\n",
        "    def __init__(self, weights, threshold):\n",
        "        self.weights = weights\n",
        "        self.threshold = threshold\n",
        "\n",
        "    def fire_neuron(self, inputs):\n",
        "        weighted_sum = sum(w * x for w, x in zip(self.weights, inputs))\n",
        "        if weighted_sum <= self.threshold:\n",
        "            return 0\n",
        "        else:\n",
        "            return 1\n",
        "\n",
        "def ANDNOT(input1, input2):\n",
        "    weights = [1, -1]\n",
        "    threshold = 0\n",
        "    neuron = Neuron(weights, threshold)\n",
        "    return neuron.fire_neuron([input1, input2])\n",
        "\n",
        "# Create empty lists to store user inputs\n",
        "inputs = {'X': [], 'Y': []}\n",
        "\n",
        "# Get user inputs for X and Y\n",
        "for i in range(4):\n",
        "    x = int(input(\"Enter value for X (1 or 0): \"))\n",
        "    y = int(input(\"Enter value for Y (1 or 0): \"))\n",
        "    inputs['X'].append(x)\n",
        "    inputs['Y'].append(y)\n",
        "\n",
        "# Create a DataFrame to store the results\n",
        "results = {\n",
        "    'X': inputs['X'],\n",
        "    'Y': inputs['Y'],\n",
        "    'Output': [ANDNOT(inputs['X'][i], inputs['Y'][i]) for i in range(4)]\n",
        "}\n",
        "\n",
        "df = pd.DataFrame(results)\n",
        "\n",
        "# Display the DataFrame\n",
        "print(df)\n"
      ]
    },
    {
      "cell_type": "code",
      "source": [
        "3"
      ],
      "metadata": {
        "id": "Yg-25T5i-J2y"
      },
      "execution_count": null,
      "outputs": []
    }
  ]
}